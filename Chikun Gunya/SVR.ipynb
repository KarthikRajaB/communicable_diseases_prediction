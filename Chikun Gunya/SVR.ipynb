{
 "cells": [
  {
   "cell_type": "markdown",
   "id": "c047aaa3",
   "metadata": {},
   "source": [
    "# Predicting Chikun Gunya in Kerala using Support Vector Regressor"
   ]
  },
  {
   "cell_type": "code",
   "execution_count": 1,
   "id": "71c56447",
   "metadata": {},
   "outputs": [],
   "source": [
    "#Importing the necessary packages\n",
    "import pandas as pd\n",
    "import math\n",
    "import matplotlib.pyplot as plt\n",
    "import numpy as np\n",
    "import os\n",
    "import seaborn as sns\n",
    "import keras\n",
    "import tensorflow as tf\n",
    "from sklearn.preprocessing import MinMaxScaler\n",
    "from tensorflow.keras.models import Sequential\n",
    "from tensorflow.keras.layers import Dense\n",
    "from tensorflow.keras.layers import LSTM\n",
    "from sklearn.metrics import mean_squared_error\n",
    "from sklearn.metrics import mean_absolute_error as MAE\n",
    "from sklearn.svm import SVR\n",
    "from sklearn.model_selection import train_test_split\n",
    "from sklearn import svm\n",
    "from sklearn import preprocessing as pre\n",
    "from sklearn.metrics import mean_absolute_error\n",
    "\n",
    "%matplotlib inline"
   ]
  },
  {
   "cell_type": "markdown",
   "id": "64b69cd5",
   "metadata": {},
   "source": [
    "# Reading The datafile containing the  case count along with along other weather features"
   ]
  },
  {
   "cell_type": "code",
   "execution_count": 2,
   "id": "1b3780e7",
   "metadata": {},
   "outputs": [
    {
     "data": {
      "text/plain": [
       "'/Users/nalinrajendran/Desktop/STUDY/MIS  SIP PAPER/CHECKPOINTS/CHECK POINT 2/NOTEBOOKS/Chikun Gunya/DATA/cg.csv'"
      ]
     },
     "execution_count": 2,
     "metadata": {},
     "output_type": "execute_result"
    }
   ],
   "source": [
    "pwd = os.getcwd()\n",
    "filepath = os.path.join(pwd,r\"DATA/cg.csv\")\n",
    "filepath"
   ]
  },
  {
   "cell_type": "code",
   "execution_count": 3,
   "id": "2b8f7900",
   "metadata": {},
   "outputs": [
    {
     "data": {
      "text/html": [
       "<div>\n",
       "<style scoped>\n",
       "    .dataframe tbody tr th:only-of-type {\n",
       "        vertical-align: middle;\n",
       "    }\n",
       "\n",
       "    .dataframe tbody tr th {\n",
       "        vertical-align: top;\n",
       "    }\n",
       "\n",
       "    .dataframe thead th {\n",
       "        text-align: right;\n",
       "    }\n",
       "</style>\n",
       "<table border=\"1\" class=\"dataframe\">\n",
       "  <thead>\n",
       "    <tr style=\"text-align: right;\">\n",
       "      <th></th>\n",
       "      <th>state</th>\n",
       "      <th>year</th>\n",
       "      <th>month</th>\n",
       "      <th>cases</th>\n",
       "      <th>mean_temp</th>\n",
       "      <th>relative_hum</th>\n",
       "      <th>prec</th>\n",
       "      <th>prec_sum</th>\n",
       "      <th>humi_spe</th>\n",
       "      <th>temp_max</th>\n",
       "      <th>temp_min</th>\n",
       "      <th>temp_avg</th>\n",
       "      <th>dew_point</th>\n",
       "    </tr>\n",
       "  </thead>\n",
       "  <tbody>\n",
       "    <tr>\n",
       "      <th>0</th>\n",
       "      <td>Kerala</td>\n",
       "      <td>2011</td>\n",
       "      <td>1</td>\n",
       "      <td>7</td>\n",
       "      <td>23.47</td>\n",
       "      <td>72.81</td>\n",
       "      <td>0.04</td>\n",
       "      <td>0.00</td>\n",
       "      <td>13.18</td>\n",
       "      <td>32.30</td>\n",
       "      <td>16.42</td>\n",
       "      <td>24.360</td>\n",
       "      <td>17.61</td>\n",
       "    </tr>\n",
       "    <tr>\n",
       "      <th>1</th>\n",
       "      <td>Kerala</td>\n",
       "      <td>2011</td>\n",
       "      <td>2</td>\n",
       "      <td>2</td>\n",
       "      <td>24.90</td>\n",
       "      <td>65.56</td>\n",
       "      <td>1.58</td>\n",
       "      <td>47.46</td>\n",
       "      <td>12.63</td>\n",
       "      <td>33.97</td>\n",
       "      <td>16.10</td>\n",
       "      <td>25.035</td>\n",
       "      <td>16.65</td>\n",
       "    </tr>\n",
       "    <tr>\n",
       "      <th>2</th>\n",
       "      <td>Kerala</td>\n",
       "      <td>2011</td>\n",
       "      <td>3</td>\n",
       "      <td>5</td>\n",
       "      <td>27.33</td>\n",
       "      <td>61.00</td>\n",
       "      <td>0.44</td>\n",
       "      <td>10.55</td>\n",
       "      <td>13.37</td>\n",
       "      <td>36.56</td>\n",
       "      <td>18.12</td>\n",
       "      <td>27.340</td>\n",
       "      <td>17.42</td>\n",
       "    </tr>\n",
       "    <tr>\n",
       "      <th>3</th>\n",
       "      <td>Kerala</td>\n",
       "      <td>2011</td>\n",
       "      <td>4</td>\n",
       "      <td>13</td>\n",
       "      <td>27.20</td>\n",
       "      <td>72.94</td>\n",
       "      <td>4.01</td>\n",
       "      <td>105.47</td>\n",
       "      <td>16.42</td>\n",
       "      <td>36.91</td>\n",
       "      <td>22.50</td>\n",
       "      <td>29.705</td>\n",
       "      <td>21.04</td>\n",
       "    </tr>\n",
       "    <tr>\n",
       "      <th>4</th>\n",
       "      <td>Kerala</td>\n",
       "      <td>2011</td>\n",
       "      <td>5</td>\n",
       "      <td>4</td>\n",
       "      <td>26.72</td>\n",
       "      <td>79.38</td>\n",
       "      <td>4.33</td>\n",
       "      <td>121.29</td>\n",
       "      <td>17.70</td>\n",
       "      <td>34.47</td>\n",
       "      <td>22.46</td>\n",
       "      <td>28.465</td>\n",
       "      <td>22.43</td>\n",
       "    </tr>\n",
       "    <tr>\n",
       "      <th>...</th>\n",
       "      <td>...</td>\n",
       "      <td>...</td>\n",
       "      <td>...</td>\n",
       "      <td>...</td>\n",
       "      <td>...</td>\n",
       "      <td>...</td>\n",
       "      <td>...</td>\n",
       "      <td>...</td>\n",
       "      <td>...</td>\n",
       "      <td>...</td>\n",
       "      <td>...</td>\n",
       "      <td>...</td>\n",
       "      <td>...</td>\n",
       "    </tr>\n",
       "    <tr>\n",
       "      <th>127</th>\n",
       "      <td>Kerala</td>\n",
       "      <td>2021</td>\n",
       "      <td>8</td>\n",
       "      <td>35</td>\n",
       "      <td>24.03</td>\n",
       "      <td>90.50</td>\n",
       "      <td>8.42</td>\n",
       "      <td>261.11</td>\n",
       "      <td>17.52</td>\n",
       "      <td>28.51</td>\n",
       "      <td>20.41</td>\n",
       "      <td>24.460</td>\n",
       "      <td>22.26</td>\n",
       "    </tr>\n",
       "    <tr>\n",
       "      <th>128</th>\n",
       "      <td>Kerala</td>\n",
       "      <td>2021</td>\n",
       "      <td>9</td>\n",
       "      <td>18</td>\n",
       "      <td>24.33</td>\n",
       "      <td>90.50</td>\n",
       "      <td>7.28</td>\n",
       "      <td>218.52</td>\n",
       "      <td>17.82</td>\n",
       "      <td>29.17</td>\n",
       "      <td>21.54</td>\n",
       "      <td>25.355</td>\n",
       "      <td>22.57</td>\n",
       "    </tr>\n",
       "    <tr>\n",
       "      <th>129</th>\n",
       "      <td>Kerala</td>\n",
       "      <td>2021</td>\n",
       "      <td>10</td>\n",
       "      <td>12</td>\n",
       "      <td>24.67</td>\n",
       "      <td>90.38</td>\n",
       "      <td>13.33</td>\n",
       "      <td>413.24</td>\n",
       "      <td>18.19</td>\n",
       "      <td>28.85</td>\n",
       "      <td>22.11</td>\n",
       "      <td>25.480</td>\n",
       "      <td>22.90</td>\n",
       "    </tr>\n",
       "    <tr>\n",
       "      <th>130</th>\n",
       "      <td>Kerala</td>\n",
       "      <td>2021</td>\n",
       "      <td>11</td>\n",
       "      <td>10</td>\n",
       "      <td>24.08</td>\n",
       "      <td>90.06</td>\n",
       "      <td>10.07</td>\n",
       "      <td>302.14</td>\n",
       "      <td>17.52</td>\n",
       "      <td>28.38</td>\n",
       "      <td>20.90</td>\n",
       "      <td>24.640</td>\n",
       "      <td>22.27</td>\n",
       "    </tr>\n",
       "    <tr>\n",
       "      <th>131</th>\n",
       "      <td>Kerala</td>\n",
       "      <td>2021</td>\n",
       "      <td>12</td>\n",
       "      <td>16</td>\n",
       "      <td>23.30</td>\n",
       "      <td>83.44</td>\n",
       "      <td>1.05</td>\n",
       "      <td>32.42</td>\n",
       "      <td>15.38</td>\n",
       "      <td>28.65</td>\n",
       "      <td>16.59</td>\n",
       "      <td>22.620</td>\n",
       "      <td>20.12</td>\n",
       "    </tr>\n",
       "  </tbody>\n",
       "</table>\n",
       "<p>132 rows × 13 columns</p>\n",
       "</div>"
      ],
      "text/plain": [
       "      state  year  month  cases  mean_temp  relative_hum   prec  prec_sum  \\\n",
       "0    Kerala  2011      1      7      23.47         72.81   0.04      0.00   \n",
       "1    Kerala  2011      2      2      24.90         65.56   1.58     47.46   \n",
       "2    Kerala  2011      3      5      27.33         61.00   0.44     10.55   \n",
       "3    Kerala  2011      4     13      27.20         72.94   4.01    105.47   \n",
       "4    Kerala  2011      5      4      26.72         79.38   4.33    121.29   \n",
       "..      ...   ...    ...    ...        ...           ...    ...       ...   \n",
       "127  Kerala  2021      8     35      24.03         90.50   8.42    261.11   \n",
       "128  Kerala  2021      9     18      24.33         90.50   7.28    218.52   \n",
       "129  Kerala  2021     10     12      24.67         90.38  13.33    413.24   \n",
       "130  Kerala  2021     11     10      24.08         90.06  10.07    302.14   \n",
       "131  Kerala  2021     12     16      23.30         83.44   1.05     32.42   \n",
       "\n",
       "     humi_spe  temp_max  temp_min  temp_avg  dew_point  \n",
       "0       13.18     32.30     16.42    24.360      17.61  \n",
       "1       12.63     33.97     16.10    25.035      16.65  \n",
       "2       13.37     36.56     18.12    27.340      17.42  \n",
       "3       16.42     36.91     22.50    29.705      21.04  \n",
       "4       17.70     34.47     22.46    28.465      22.43  \n",
       "..        ...       ...       ...       ...        ...  \n",
       "127     17.52     28.51     20.41    24.460      22.26  \n",
       "128     17.82     29.17     21.54    25.355      22.57  \n",
       "129     18.19     28.85     22.11    25.480      22.90  \n",
       "130     17.52     28.38     20.90    24.640      22.27  \n",
       "131     15.38     28.65     16.59    22.620      20.12  \n",
       "\n",
       "[132 rows x 13 columns]"
      ]
     },
     "execution_count": 3,
     "metadata": {},
     "output_type": "execute_result"
    }
   ],
   "source": [
    "df = pd.read_csv(filepath)\n",
    "df\n",
    "# In the months columns we have assigned numbers from 1 to 12 respectively for the months from January To December \n",
    "#The table includes precipitation,humidity,temperature parameters"
   ]
  },
  {
   "cell_type": "code",
   "execution_count": 4,
   "id": "bfdd9d86",
   "metadata": {},
   "outputs": [
    {
     "name": "stdout",
     "output_type": "stream",
     "text": [
      "<class 'pandas.core.frame.DataFrame'>\n",
      "RangeIndex: 132 entries, 0 to 131\n",
      "Data columns (total 13 columns):\n",
      " #   Column        Non-Null Count  Dtype  \n",
      "---  ------        --------------  -----  \n",
      " 0   state         132 non-null    object \n",
      " 1   year          132 non-null    int64  \n",
      " 2   month         132 non-null    int64  \n",
      " 3   cases         132 non-null    int64  \n",
      " 4   mean_temp     132 non-null    float64\n",
      " 5   relative_hum  132 non-null    float64\n",
      " 6   prec          132 non-null    float64\n",
      " 7   prec_sum      132 non-null    float64\n",
      " 8   humi_spe      132 non-null    float64\n",
      " 9   temp_max      132 non-null    float64\n",
      " 10  temp_min      132 non-null    float64\n",
      " 11  temp_avg      132 non-null    float64\n",
      " 12  dew_point     132 non-null    float64\n",
      "dtypes: float64(9), int64(3), object(1)\n",
      "memory usage: 13.5+ KB\n"
     ]
    }
   ],
   "source": [
    "df.info()"
   ]
  },
  {
   "cell_type": "code",
   "execution_count": 5,
   "id": "71d34491",
   "metadata": {},
   "outputs": [
    {
     "data": {
      "text/html": [
       "<div>\n",
       "<style scoped>\n",
       "    .dataframe tbody tr th:only-of-type {\n",
       "        vertical-align: middle;\n",
       "    }\n",
       "\n",
       "    .dataframe tbody tr th {\n",
       "        vertical-align: top;\n",
       "    }\n",
       "\n",
       "    .dataframe thead th {\n",
       "        text-align: right;\n",
       "    }\n",
       "</style>\n",
       "<table border=\"1\" class=\"dataframe\">\n",
       "  <thead>\n",
       "    <tr style=\"text-align: right;\">\n",
       "      <th></th>\n",
       "      <th>year</th>\n",
       "      <th>month</th>\n",
       "      <th>cases</th>\n",
       "      <th>mean_temp</th>\n",
       "      <th>relative_hum</th>\n",
       "      <th>prec</th>\n",
       "      <th>prec_sum</th>\n",
       "      <th>humi_spe</th>\n",
       "      <th>temp_max</th>\n",
       "      <th>temp_min</th>\n",
       "      <th>temp_avg</th>\n",
       "      <th>dew_point</th>\n",
       "    </tr>\n",
       "  </thead>\n",
       "  <tbody>\n",
       "    <tr>\n",
       "      <th>count</th>\n",
       "      <td>132.000000</td>\n",
       "      <td>132.000000</td>\n",
       "      <td>132.000000</td>\n",
       "      <td>132.000000</td>\n",
       "      <td>132.000000</td>\n",
       "      <td>132.000000</td>\n",
       "      <td>132.000000</td>\n",
       "      <td>132.000000</td>\n",
       "      <td>132.000000</td>\n",
       "      <td>132.000000</td>\n",
       "      <td>132.000000</td>\n",
       "      <td>132.000000</td>\n",
       "    </tr>\n",
       "    <tr>\n",
       "      <th>mean</th>\n",
       "      <td>2016.000000</td>\n",
       "      <td>6.500000</td>\n",
       "      <td>16.348485</td>\n",
       "      <td>25.412121</td>\n",
       "      <td>78.569167</td>\n",
       "      <td>5.213333</td>\n",
       "      <td>154.496136</td>\n",
       "      <td>16.093864</td>\n",
       "      <td>32.165909</td>\n",
       "      <td>20.096591</td>\n",
       "      <td>26.131250</td>\n",
       "      <td>20.631667</td>\n",
       "    </tr>\n",
       "    <tr>\n",
       "      <th>std</th>\n",
       "      <td>3.174324</td>\n",
       "      <td>3.465203</td>\n",
       "      <td>20.814699</td>\n",
       "      <td>1.631589</td>\n",
       "      <td>12.025662</td>\n",
       "      <td>4.915950</td>\n",
       "      <td>151.150037</td>\n",
       "      <td>2.167127</td>\n",
       "      <td>3.613296</td>\n",
       "      <td>2.139324</td>\n",
       "      <td>2.158619</td>\n",
       "      <td>2.474223</td>\n",
       "    </tr>\n",
       "    <tr>\n",
       "      <th>min</th>\n",
       "      <td>2011.000000</td>\n",
       "      <td>1.000000</td>\n",
       "      <td>0.000000</td>\n",
       "      <td>23.300000</td>\n",
       "      <td>52.000000</td>\n",
       "      <td>0.000000</td>\n",
       "      <td>0.000000</td>\n",
       "      <td>10.800000</td>\n",
       "      <td>26.720000</td>\n",
       "      <td>14.700000</td>\n",
       "      <td>22.620000</td>\n",
       "      <td>13.730000</td>\n",
       "    </tr>\n",
       "    <tr>\n",
       "      <th>25%</th>\n",
       "      <td>2013.000000</td>\n",
       "      <td>3.750000</td>\n",
       "      <td>3.000000</td>\n",
       "      <td>24.205000</td>\n",
       "      <td>66.892500</td>\n",
       "      <td>1.030000</td>\n",
       "      <td>26.370000</td>\n",
       "      <td>14.437500</td>\n",
       "      <td>29.120000</td>\n",
       "      <td>18.202500</td>\n",
       "      <td>24.625000</td>\n",
       "      <td>18.960000</td>\n",
       "    </tr>\n",
       "    <tr>\n",
       "      <th>50%</th>\n",
       "      <td>2016.000000</td>\n",
       "      <td>6.500000</td>\n",
       "      <td>7.500000</td>\n",
       "      <td>24.700000</td>\n",
       "      <td>82.625000</td>\n",
       "      <td>3.950000</td>\n",
       "      <td>113.380000</td>\n",
       "      <td>17.030000</td>\n",
       "      <td>30.605000</td>\n",
       "      <td>20.640000</td>\n",
       "      <td>25.350000</td>\n",
       "      <td>21.800000</td>\n",
       "    </tr>\n",
       "    <tr>\n",
       "      <th>75%</th>\n",
       "      <td>2019.000000</td>\n",
       "      <td>9.250000</td>\n",
       "      <td>22.000000</td>\n",
       "      <td>26.505000</td>\n",
       "      <td>89.297500</td>\n",
       "      <td>8.315000</td>\n",
       "      <td>250.390000</td>\n",
       "      <td>17.820000</td>\n",
       "      <td>35.555000</td>\n",
       "      <td>21.557500</td>\n",
       "      <td>27.592500</td>\n",
       "      <td>22.532500</td>\n",
       "    </tr>\n",
       "    <tr>\n",
       "      <th>max</th>\n",
       "      <td>2021.000000</td>\n",
       "      <td>12.000000</td>\n",
       "      <td>105.000000</td>\n",
       "      <td>29.550000</td>\n",
       "      <td>92.500000</td>\n",
       "      <td>21.370000</td>\n",
       "      <td>638.090000</td>\n",
       "      <td>18.800000</td>\n",
       "      <td>39.170000</td>\n",
       "      <td>24.310000</td>\n",
       "      <td>31.430000</td>\n",
       "      <td>23.400000</td>\n",
       "    </tr>\n",
       "  </tbody>\n",
       "</table>\n",
       "</div>"
      ],
      "text/plain": [
       "              year       month       cases   mean_temp  relative_hum  \\\n",
       "count   132.000000  132.000000  132.000000  132.000000    132.000000   \n",
       "mean   2016.000000    6.500000   16.348485   25.412121     78.569167   \n",
       "std       3.174324    3.465203   20.814699    1.631589     12.025662   \n",
       "min    2011.000000    1.000000    0.000000   23.300000     52.000000   \n",
       "25%    2013.000000    3.750000    3.000000   24.205000     66.892500   \n",
       "50%    2016.000000    6.500000    7.500000   24.700000     82.625000   \n",
       "75%    2019.000000    9.250000   22.000000   26.505000     89.297500   \n",
       "max    2021.000000   12.000000  105.000000   29.550000     92.500000   \n",
       "\n",
       "             prec    prec_sum    humi_spe    temp_max    temp_min    temp_avg  \\\n",
       "count  132.000000  132.000000  132.000000  132.000000  132.000000  132.000000   \n",
       "mean     5.213333  154.496136   16.093864   32.165909   20.096591   26.131250   \n",
       "std      4.915950  151.150037    2.167127    3.613296    2.139324    2.158619   \n",
       "min      0.000000    0.000000   10.800000   26.720000   14.700000   22.620000   \n",
       "25%      1.030000   26.370000   14.437500   29.120000   18.202500   24.625000   \n",
       "50%      3.950000  113.380000   17.030000   30.605000   20.640000   25.350000   \n",
       "75%      8.315000  250.390000   17.820000   35.555000   21.557500   27.592500   \n",
       "max     21.370000  638.090000   18.800000   39.170000   24.310000   31.430000   \n",
       "\n",
       "        dew_point  \n",
       "count  132.000000  \n",
       "mean    20.631667  \n",
       "std      2.474223  \n",
       "min     13.730000  \n",
       "25%     18.960000  \n",
       "50%     21.800000  \n",
       "75%     22.532500  \n",
       "max     23.400000  "
      ]
     },
     "execution_count": 5,
     "metadata": {},
     "output_type": "execute_result"
    }
   ],
   "source": [
    "df.describe()"
   ]
  },
  {
   "cell_type": "code",
   "execution_count": 6,
   "id": "bf0a7e34",
   "metadata": {},
   "outputs": [
    {
     "data": {
      "text/plain": [
       "<AxesSubplot:xlabel='year'>"
      ]
     },
     "execution_count": 6,
     "metadata": {},
     "output_type": "execute_result"
    },
    {
     "data": {
      "image/png": "[encoded data removed]",
      "text/plain": [
       "<Figure size 1008x432 with 1 Axes>"
      ]
     },
     "metadata": {
      "needs_background": "light"
     },
     "output_type": "display_data"
    }
   ],
   "source": [
    "plt.figure(figsize = (14,6))\n",
    "df.groupby('year')['cases'].sum().plot.bar()"
   ]
  },
  {
   "cell_type": "markdown",
   "id": "d1cd39e5",
   "metadata": {},
   "source": [
    "# The above bar graph indicates the yearwise count of Malaria cases from 2011 to 2021"
   ]
  },
  {
   "cell_type": "code",
   "execution_count": 7,
   "id": "ccd20ba2",
   "metadata": {},
   "outputs": [
    {
     "data": {
      "text/plain": [
       "Text(0.5, 1.0, 'Dengue Cases by Year ')"
      ]
     },
     "execution_count": 7,
     "metadata": {},
     "output_type": "execute_result"
    },
    {
     "data": {
      "image/png": "[encoded data removed]",
      "text/plain": [
       "<Figure size 1008x432 with 1 Axes>"
      ]
     },
     "metadata": {
      "needs_background": "light"
     },
     "output_type": "display_data"
    }
   ],
   "source": [
    "plt.figure(figsize = (14,6))\n",
    "df.groupby('year')['cases'].plot()\n",
    "plt.title('Dengue Cases by Year ', fontsize = 25)"
   ]
  },
  {
   "cell_type": "code",
   "execution_count": 8,
   "id": "41ec5593",
   "metadata": {},
   "outputs": [
    {
     "data": {
      "text/plain": [
       "Text(0.5, 1.0, 'Rainfall by Year ')"
      ]
     },
     "execution_count": 8,
     "metadata": {},
     "output_type": "execute_result"
    },
    {
     "data": {
      "image/png": "[encoded data removed]",
      "text/plain": [
       "<Figure size 1008x432 with 1 Axes>"
      ]
     },
     "metadata": {
      "needs_background": "light"
     },
     "output_type": "display_data"
    }
   ],
   "source": [
    "plt.figure(figsize = (14,6))\n",
    "df.groupby('year')['prec'].plot()\n",
    "plt.title('Rainfall by Year ', fontsize = 25)"
   ]
  },
  {
   "cell_type": "markdown",
   "id": "543de883",
   "metadata": {},
   "source": [
    "# The above graph reflects the rainfall pattern over the period 2011-2021"
   ]
  },
  {
   "cell_type": "markdown",
   "id": "d0aed516",
   "metadata": {},
   "source": [
    "# Declaring the input correlating features and output lables."
   ]
  },
  {
   "cell_type": "code",
   "execution_count": 9,
   "id": "8c40dc7a",
   "metadata": {},
   "outputs": [],
   "source": [
    "X = df.drop(\"cases\", axis=1)\n",
    "X = df.drop(\"state\", axis=1)\n",
    "#output feature we are selecting here is the case count\n",
    "y = df[\"cases\"]"
   ]
  },
  {
   "cell_type": "markdown",
   "id": "3c8e0563",
   "metadata": {},
   "source": [
    "# Splitting the data for Train and Test"
   ]
  },
  {
   "cell_type": "code",
   "execution_count": 10,
   "id": "7b9ee7cd",
   "metadata": {},
   "outputs": [],
   "source": [
    "#Taking the train and test data. We are using 80 percent of the data for training and 20 percent for testing.\n",
    "\n",
    "X_train, X_test, y_train, y_test = train_test_split(X, y, test_size=0.3)\n",
    "\n"
   ]
  },
  {
   "cell_type": "code",
   "execution_count": 11,
   "id": "7ba9ac36",
   "metadata": {},
   "outputs": [
    {
     "data": {
      "text/html": [
       "<div>\n",
       "<style scoped>\n",
       "    .dataframe tbody tr th:only-of-type {\n",
       "        vertical-align: middle;\n",
       "    }\n",
       "\n",
       "    .dataframe tbody tr th {\n",
       "        vertical-align: top;\n",
       "    }\n",
       "\n",
       "    .dataframe thead th {\n",
       "        text-align: right;\n",
       "    }\n",
       "</style>\n",
       "<table border=\"1\" class=\"dataframe\">\n",
       "  <thead>\n",
       "    <tr style=\"text-align: right;\">\n",
       "      <th></th>\n",
       "      <th>year</th>\n",
       "      <th>month</th>\n",
       "      <th>mean_temp</th>\n",
       "      <th>relative_hum</th>\n",
       "      <th>prec</th>\n",
       "      <th>prec_sum</th>\n",
       "      <th>humi_spe</th>\n",
       "      <th>temp_max</th>\n",
       "      <th>temp_min</th>\n",
       "      <th>temp_avg</th>\n",
       "      <th>dew_point</th>\n",
       "    </tr>\n",
       "  </thead>\n",
       "  <tbody>\n",
       "    <tr>\n",
       "      <th>0</th>\n",
       "      <td>2018</td>\n",
       "      <td>7</td>\n",
       "      <td>24.14</td>\n",
       "      <td>92.00</td>\n",
       "      <td>16.02</td>\n",
       "      <td>506.25</td>\n",
       "      <td>17.94</td>\n",
       "      <td>28.11</td>\n",
       "      <td>20.73</td>\n",
       "      <td>24.420</td>\n",
       "      <td>22.68</td>\n",
       "    </tr>\n",
       "    <tr>\n",
       "      <th>1</th>\n",
       "      <td>2011</td>\n",
       "      <td>5</td>\n",
       "      <td>26.72</td>\n",
       "      <td>79.38</td>\n",
       "      <td>4.33</td>\n",
       "      <td>121.29</td>\n",
       "      <td>17.70</td>\n",
       "      <td>34.47</td>\n",
       "      <td>22.46</td>\n",
       "      <td>28.465</td>\n",
       "      <td>22.43</td>\n",
       "    </tr>\n",
       "    <tr>\n",
       "      <th>2</th>\n",
       "      <td>2021</td>\n",
       "      <td>9</td>\n",
       "      <td>24.33</td>\n",
       "      <td>90.50</td>\n",
       "      <td>7.28</td>\n",
       "      <td>218.52</td>\n",
       "      <td>17.82</td>\n",
       "      <td>29.17</td>\n",
       "      <td>21.54</td>\n",
       "      <td>25.355</td>\n",
       "      <td>22.57</td>\n",
       "    </tr>\n",
       "    <tr>\n",
       "      <th>3</th>\n",
       "      <td>2016</td>\n",
       "      <td>3</td>\n",
       "      <td>29.20</td>\n",
       "      <td>60.56</td>\n",
       "      <td>0.29</td>\n",
       "      <td>5.27</td>\n",
       "      <td>15.01</td>\n",
       "      <td>38.31</td>\n",
       "      <td>22.39</td>\n",
       "      <td>30.350</td>\n",
       "      <td>19.48</td>\n",
       "    </tr>\n",
       "    <tr>\n",
       "      <th>4</th>\n",
       "      <td>2016</td>\n",
       "      <td>6</td>\n",
       "      <td>24.87</td>\n",
       "      <td>88.75</td>\n",
       "      <td>11.62</td>\n",
       "      <td>337.50</td>\n",
       "      <td>18.07</td>\n",
       "      <td>29.20</td>\n",
       "      <td>20.98</td>\n",
       "      <td>25.090</td>\n",
       "      <td>22.76</td>\n",
       "    </tr>\n",
       "  </tbody>\n",
       "</table>\n",
       "</div>"
      ],
      "text/plain": [
       "   year  month  mean_temp  relative_hum   prec  prec_sum  humi_spe  temp_max  \\\n",
       "0  2018      7      24.14         92.00  16.02    506.25     17.94     28.11   \n",
       "1  2011      5      26.72         79.38   4.33    121.29     17.70     34.47   \n",
       "2  2021      9      24.33         90.50   7.28    218.52     17.82     29.17   \n",
       "3  2016      3      29.20         60.56   0.29      5.27     15.01     38.31   \n",
       "4  2016      6      24.87         88.75  11.62    337.50     18.07     29.20   \n",
       "\n",
       "   temp_min  temp_avg  dew_point  \n",
       "0     20.73    24.420      22.68  \n",
       "1     22.46    28.465      22.43  \n",
       "2     21.54    25.355      22.57  \n",
       "3     22.39    30.350      19.48  \n",
       "4     20.98    25.090      22.76  "
      ]
     },
     "execution_count": 11,
     "metadata": {},
     "output_type": "execute_result"
    }
   ],
   "source": [
    "X_train.drop(\"cases\", axis=1).reset_index(drop=True)\n",
    "X_test.drop(\"cases\", axis=1).head().reset_index(drop=True)"
   ]
  },
  {
   "cell_type": "code",
   "execution_count": 12,
   "id": "1bb020f4",
   "metadata": {},
   "outputs": [
    {
     "data": {
      "text/plain": [
       "39      3\n",
       "89      1\n",
       "97      1\n",
       "104     0\n",
       "16     11\n",
       "       ..\n",
       "24      5\n",
       "107     4\n",
       "61     18\n",
       "119    51\n",
       "95     15\n",
       "Name: cases, Length: 92, dtype: int64"
      ]
     },
     "execution_count": 12,
     "metadata": {},
     "output_type": "execute_result"
    }
   ],
   "source": [
    "y_train"
   ]
  },
  {
   "cell_type": "code",
   "execution_count": 13,
   "id": "34d7a143",
   "metadata": {},
   "outputs": [
    {
     "name": "stdout",
     "output_type": "stream",
     "text": [
      "Test accuracy: 1.00\n"
     ]
    }
   ],
   "source": [
    "#Here, we have used the Linear kerel and with little hyper parameter tuning.\n",
    "model = SVR(kernel='linear',C=80,gamma=.009)\n",
    "\n",
    "\n",
    "#Making the model fit on the features and lables.\n",
    "model.fit(X_train, y_train)\n",
    "\n",
    "accuracy = model.score(X_test, y_test)\n",
    "\n",
    "print(\"Test accuracy: {:.2f}\".format(accuracy))\n"
   ]
  },
  {
   "cell_type": "markdown",
   "id": "237c7b32",
   "metadata": {},
   "source": [
    "# Prediction and Comparision of the predicted values and actual values\n"
   ]
  },
  {
   "cell_type": "code",
   "execution_count": 14,
   "id": "a1e6ca0f",
   "metadata": {},
   "outputs": [
    {
     "data": {
      "text/html": [
       "<div>\n",
       "<style scoped>\n",
       "    .dataframe tbody tr th:only-of-type {\n",
       "        vertical-align: middle;\n",
       "    }\n",
       "\n",
       "    .dataframe tbody tr th {\n",
       "        vertical-align: top;\n",
       "    }\n",
       "\n",
       "    .dataframe thead th {\n",
       "        text-align: right;\n",
       "    }\n",
       "</style>\n",
       "<table border=\"1\" class=\"dataframe\">\n",
       "  <thead>\n",
       "    <tr style=\"text-align: right;\">\n",
       "      <th></th>\n",
       "      <th>Actual</th>\n",
       "      <th>Predicted</th>\n",
       "    </tr>\n",
       "  </thead>\n",
       "  <tbody>\n",
       "    <tr>\n",
       "      <th>90</th>\n",
       "      <td>3</td>\n",
       "      <td>3.078587</td>\n",
       "    </tr>\n",
       "    <tr>\n",
       "      <th>4</th>\n",
       "      <td>4</td>\n",
       "      <td>4.041020</td>\n",
       "    </tr>\n",
       "    <tr>\n",
       "      <th>128</th>\n",
       "      <td>18</td>\n",
       "      <td>18.077859</td>\n",
       "    </tr>\n",
       "    <tr>\n",
       "      <th>62</th>\n",
       "      <td>12</td>\n",
       "      <td>12.061786</td>\n",
       "    </tr>\n",
       "    <tr>\n",
       "      <th>65</th>\n",
       "      <td>14</td>\n",
       "      <td>14.053145</td>\n",
       "    </tr>\n",
       "    <tr>\n",
       "      <th>41</th>\n",
       "      <td>13</td>\n",
       "      <td>13.053113</td>\n",
       "    </tr>\n",
       "    <tr>\n",
       "      <th>21</th>\n",
       "      <td>3</td>\n",
       "      <td>3.048908</td>\n",
       "    </tr>\n",
       "    <tr>\n",
       "      <th>106</th>\n",
       "      <td>2</td>\n",
       "      <td>2.107022</td>\n",
       "    </tr>\n",
       "    <tr>\n",
       "      <th>122</th>\n",
       "      <td>10</td>\n",
       "      <td>10.094854</td>\n",
       "    </tr>\n",
       "    <tr>\n",
       "      <th>92</th>\n",
       "      <td>6</td>\n",
       "      <td>6.085710</td>\n",
       "    </tr>\n",
       "    <tr>\n",
       "      <th>48</th>\n",
       "      <td>29</td>\n",
       "      <td>29.006022</td>\n",
       "    </tr>\n",
       "    <tr>\n",
       "      <th>52</th>\n",
       "      <td>5</td>\n",
       "      <td>5.066747</td>\n",
       "    </tr>\n",
       "    <tr>\n",
       "      <th>130</th>\n",
       "      <td>10</td>\n",
       "      <td>10.091770</td>\n",
       "    </tr>\n",
       "    <tr>\n",
       "      <th>43</th>\n",
       "      <td>42</td>\n",
       "      <td>41.960738</td>\n",
       "    </tr>\n",
       "    <tr>\n",
       "      <th>72</th>\n",
       "      <td>1</td>\n",
       "      <td>1.086134</td>\n",
       "    </tr>\n",
       "    <tr>\n",
       "      <th>53</th>\n",
       "      <td>9</td>\n",
       "      <td>9.058127</td>\n",
       "    </tr>\n",
       "    <tr>\n",
       "      <th>33</th>\n",
       "      <td>41</td>\n",
       "      <td>40.970051</td>\n",
       "    </tr>\n",
       "    <tr>\n",
       "      <th>120</th>\n",
       "      <td>34</td>\n",
       "      <td>34.039500</td>\n",
       "    </tr>\n",
       "    <tr>\n",
       "      <th>63</th>\n",
       "      <td>2</td>\n",
       "      <td>2.087012</td>\n",
       "    </tr>\n",
       "    <tr>\n",
       "      <th>112</th>\n",
       "      <td>7</td>\n",
       "      <td>7.092474</td>\n",
       "    </tr>\n",
       "    <tr>\n",
       "      <th>115</th>\n",
       "      <td>55</td>\n",
       "      <td>54.976892</td>\n",
       "    </tr>\n",
       "    <tr>\n",
       "      <th>118</th>\n",
       "      <td>25</td>\n",
       "      <td>25.054050</td>\n",
       "    </tr>\n",
       "    <tr>\n",
       "      <th>111</th>\n",
       "      <td>7</td>\n",
       "      <td>7.094960</td>\n",
       "    </tr>\n",
       "    <tr>\n",
       "      <th>44</th>\n",
       "      <td>40</td>\n",
       "      <td>39.980091</td>\n",
       "    </tr>\n",
       "    <tr>\n",
       "      <th>38</th>\n",
       "      <td>4</td>\n",
       "      <td>4.058079</td>\n",
       "    </tr>\n",
       "    <tr>\n",
       "      <th>77</th>\n",
       "      <td>18</td>\n",
       "      <td>18.055612</td>\n",
       "    </tr>\n",
       "    <tr>\n",
       "      <th>103</th>\n",
       "      <td>5</td>\n",
       "      <td>5.078578</td>\n",
       "    </tr>\n",
       "    <tr>\n",
       "      <th>28</th>\n",
       "      <td>2</td>\n",
       "      <td>2.055641</td>\n",
       "    </tr>\n",
       "    <tr>\n",
       "      <th>110</th>\n",
       "      <td>22</td>\n",
       "      <td>22.059075</td>\n",
       "    </tr>\n",
       "    <tr>\n",
       "      <th>5</th>\n",
       "      <td>23</td>\n",
       "      <td>22.994280</td>\n",
       "    </tr>\n",
       "    <tr>\n",
       "      <th>34</th>\n",
       "      <td>22</td>\n",
       "      <td>22.018520</td>\n",
       "    </tr>\n",
       "    <tr>\n",
       "      <th>69</th>\n",
       "      <td>1</td>\n",
       "      <td>1.083118</td>\n",
       "    </tr>\n",
       "    <tr>\n",
       "      <th>56</th>\n",
       "      <td>14</td>\n",
       "      <td>14.047156</td>\n",
       "    </tr>\n",
       "    <tr>\n",
       "      <th>80</th>\n",
       "      <td>2</td>\n",
       "      <td>2.076639</td>\n",
       "    </tr>\n",
       "    <tr>\n",
       "      <th>46</th>\n",
       "      <td>25</td>\n",
       "      <td>25.018040</td>\n",
       "    </tr>\n",
       "    <tr>\n",
       "      <th>25</th>\n",
       "      <td>7</td>\n",
       "      <td>7.041082</td>\n",
       "    </tr>\n",
       "    <tr>\n",
       "      <th>75</th>\n",
       "      <td>1</td>\n",
       "      <td>1.094753</td>\n",
       "    </tr>\n",
       "    <tr>\n",
       "      <th>125</th>\n",
       "      <td>105</td>\n",
       "      <td>104.880711</td>\n",
       "    </tr>\n",
       "    <tr>\n",
       "      <th>116</th>\n",
       "      <td>23</td>\n",
       "      <td>23.045292</td>\n",
       "    </tr>\n",
       "    <tr>\n",
       "      <th>73</th>\n",
       "      <td>9</td>\n",
       "      <td>9.056929</td>\n",
       "    </tr>\n",
       "  </tbody>\n",
       "</table>\n",
       "</div>"
      ],
      "text/plain": [
       "     Actual   Predicted\n",
       "90        3    3.078587\n",
       "4         4    4.041020\n",
       "128      18   18.077859\n",
       "62       12   12.061786\n",
       "65       14   14.053145\n",
       "41       13   13.053113\n",
       "21        3    3.048908\n",
       "106       2    2.107022\n",
       "122      10   10.094854\n",
       "92        6    6.085710\n",
       "48       29   29.006022\n",
       "52        5    5.066747\n",
       "130      10   10.091770\n",
       "43       42   41.960738\n",
       "72        1    1.086134\n",
       "53        9    9.058127\n",
       "33       41   40.970051\n",
       "120      34   34.039500\n",
       "63        2    2.087012\n",
       "112       7    7.092474\n",
       "115      55   54.976892\n",
       "118      25   25.054050\n",
       "111       7    7.094960\n",
       "44       40   39.980091\n",
       "38        4    4.058079\n",
       "77       18   18.055612\n",
       "103       5    5.078578\n",
       "28        2    2.055641\n",
       "110      22   22.059075\n",
       "5        23   22.994280\n",
       "34       22   22.018520\n",
       "69        1    1.083118\n",
       "56       14   14.047156\n",
       "80        2    2.076639\n",
       "46       25   25.018040\n",
       "25        7    7.041082\n",
       "75        1    1.094753\n",
       "125     105  104.880711\n",
       "116      23   23.045292\n",
       "73        9    9.056929"
      ]
     },
     "execution_count": 14,
     "metadata": {},
     "output_type": "execute_result"
    }
   ],
   "source": [
    "y_pred = model.predict(X_test)\n",
    "\n",
    "df1 = pd.DataFrame({\"Actual\": y_test, \"Predicted\": y_pred})\n",
    "\n",
    "df1\n"
   ]
  },
  {
   "cell_type": "code",
   "execution_count": 15,
   "id": "fd21b40b",
   "metadata": {},
   "outputs": [
    {
     "data": {
      "image/png": "[encoded data removed]",
      "text/plain": [
       "<Figure size 432x288 with 1 Axes>"
      ]
     },
     "metadata": {
      "needs_background": "light"
     },
     "output_type": "display_data"
    }
   ],
   "source": [
    "# Plot the actual versus predicted values\n",
    "plt.plot(y_test, y_pred, \"o\")\n",
    "plt.plot([y_test.min(), y_test.max()], [y_test.min(), y_test.max()])\n",
    "plt.xlabel(\"Actual values\")\n",
    "plt.ylabel(\"Predicted values\")\n",
    "plt.show()"
   ]
  },
  {
   "cell_type": "code",
   "execution_count": 16,
   "id": "57e771fd",
   "metadata": {},
   "outputs": [
    {
     "data": {
      "text/plain": [
       "<AxesSubplot:xlabel='cases', ylabel='prec'>"
      ]
     },
     "execution_count": 16,
     "metadata": {},
     "output_type": "execute_result"
    },
    {
     "data": {
      "image/png": "[encoded data removed]",
      "text/plain": [
       "<Figure size 432x288 with 1 Axes>"
      ]
     },
     "metadata": {
      "needs_background": "light"
     },
     "output_type": "display_data"
    }
   ],
   "source": [
    "df.plot(x=\"cases\", y=\"prec\", kind=\"scatter\")"
   ]
  },
  {
   "cell_type": "markdown",
   "id": "62c92dfb",
   "metadata": {},
   "source": [
    "# Evaluation metric- Mean Absolute Error"
   ]
  },
  {
   "cell_type": "code",
   "execution_count": 17,
   "id": "e287c9ee",
   "metadata": {},
   "outputs": [
    {
     "data": {
      "text/plain": [
       "0.06011383528578897"
      ]
     },
     "execution_count": 17,
     "metadata": {},
     "output_type": "execute_result"
    }
   ],
   "source": [
    "#MAE of the model.\n",
    "\n",
    "mean_absolute_error(y_test, y_pred)"
   ]
  },
  {
   "cell_type": "code",
   "execution_count": null,
   "id": "7f1ff046",
   "metadata": {},
   "outputs": [],
   "source": []
  },
  {
   "cell_type": "code",
   "execution_count": null,
   "id": "7b75de1c",
   "metadata": {},
   "outputs": [],
   "source": []
  },
  {
   "cell_type": "code",
   "execution_count": 18,
   "id": "a414d458",
   "metadata": {},
   "outputs": [
    {
     "data": {
      "image/png": "[encoded data removed]",
      "text/plain": [
       "<Figure size 432x288 with 1 Axes>"
      ]
     },
     "metadata": {
      "needs_background": "light"
     },
     "output_type": "display_data"
    }
   ],
   "source": [
    "# Plot the actual versus predicted values\n",
    "plt.plot(y_test, y_pred, \"o\")\n",
    "plt.plot([y_test.min(), y_test.max()], [y_test.min(), y_test.max()])\n",
    "plt.xlabel(\"Actual values\")\n",
    "plt.ylabel(\"Predicted values\")\n",
    "plt.show()"
   ]
  },
  {
   "cell_type": "code",
   "execution_count": null,
   "id": "da884d09",
   "metadata": {},
   "outputs": [],
   "source": []
  },
  {
   "cell_type": "code",
   "execution_count": null,
   "id": "1a1b46a6",
   "metadata": {},
   "outputs": [],
   "source": []
  }
 ],
 "metadata": {
  "kernelspec": {
   "display_name": "Python 3",
   "language": "python",
   "name": "python3"
  },
  "language_info": {
   "codemirror_mode": {
    "name": "ipython",
    "version": 3
   },
   "file_extension": ".py",
   "mimetype": "text/x-python",
   "name": "python",
   "nbconvert_exporter": "python",
   "pygments_lexer": "ipython3",
   "version": "3.8.8"
  },
  "vscode": {
   "interpreter": {
    "hash": "0e08e41d2113bd9291676930338b80c3232500106a9b2358e4cbc64eed08c69d"
   }
  }
 },
 "nbformat": 4,
 "nbformat_minor": 5
}
